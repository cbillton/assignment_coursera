{
 "cells": [
  {
   "cell_type": "markdown",
   "id": "95fc721c",
   "metadata": {},
   "source": [
    "# Data Science Tools and Ecosystem"
   ]
  },
  {
   "cell_type": "markdown",
   "id": "50c29289",
   "metadata": {},
   "source": [
    "In this notebook, Data Science Tools and Ecosystem are summarized."
   ]
  },
  {
   "cell_type": "markdown",
   "id": "0b12ec7e",
   "metadata": {},
   "source": [
    "__Objectives:__\n",
    "- List popular languages for data science\n",
    "- List libraries used by Data Scientists\n",
    "- List data science tools\n",
    "- Conduct arithmetic operations in python"
   ]
  },
  {
   "cell_type": "markdown",
   "id": "5ace1ac2",
   "metadata": {},
   "source": [
    "## Author\n",
    "Carl Billton"
   ]
  },
  {
   "cell_type": "markdown",
   "id": "533acfdc",
   "metadata": {},
   "source": [
    "Some of the popular languages that Data Scientists use are:\n",
    "1. Python\n",
    "2. R\n",
    "3. Scala\n",
    "4. SQL\n",
    "5. Java"
   ]
  },
  {
   "cell_type": "markdown",
   "id": "aac2354f",
   "metadata": {},
   "source": [
    "Some of the commonly used libraries used by Data Scientists include:\n",
    "1. Pandas\n",
    "2. Matplotlib\n",
    "3. Seaborn"
   ]
  },
  {
   "cell_type": "markdown",
   "id": "80803b4c",
   "metadata": {},
   "source": [
    "| Data Science Tools |\n",
    "| -------------|\n",
    "| R studio |\n",
    "| Apache Spark |\n",
    "| Tensorflow |"
   ]
  },
  {
   "cell_type": "markdown",
   "id": "0754d458",
   "metadata": {},
   "source": [
    "### Below are a few examples of evaluating arithmetic expressions in Python."
   ]
  },
  {
   "cell_type": "code",
   "execution_count": 3,
   "id": "361c2097",
   "metadata": {},
   "outputs": [
    {
     "data": {
      "text/plain": [
       "17"
      ]
     },
     "execution_count": 3,
     "metadata": {},
     "output_type": "execute_result"
    }
   ],
   "source": [
    "(3*4)+5"
   ]
  },
  {
   "cell_type": "code",
   "execution_count": 4,
   "id": "491f635d",
   "metadata": {},
   "outputs": [
    {
     "data": {
      "text/plain": [
       "3.3333333333333335"
      ]
     },
     "execution_count": 4,
     "metadata": {},
     "output_type": "execute_result"
    }
   ],
   "source": [
    "# This will convert 200 minutes to hours by diving by 60.\n",
    "\n",
    "200/60"
   ]
  },
  {
   "cell_type": "code",
   "execution_count": null,
   "id": "b9bfea01",
   "metadata": {},
   "outputs": [],
   "source": []
  }
 ],
 "metadata": {
  "kernelspec": {
   "display_name": "Python 3 (ipykernel)",
   "language": "python",
   "name": "python3"
  },
  "language_info": {
   "codemirror_mode": {
    "name": "ipython",
    "version": 3
   },
   "file_extension": ".py",
   "mimetype": "text/x-python",
   "name": "python",
   "nbconvert_exporter": "python",
   "pygments_lexer": "ipython3",
   "version": "3.10.9"
  }
 },
 "nbformat": 4,
 "nbformat_minor": 5
}
